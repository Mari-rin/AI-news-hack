{
 "cells": [
  {
   "cell_type": "code",
   "execution_count": 1,
   "id": "declared-radar",
   "metadata": {},
   "outputs": [],
   "source": [
    "from AI_news_hack_title_script_topics_similarity_Shushpanova_MaRyRyN import *\n",
    "import pandas as pd\n",
    "import warnings\n",
    "from pandas.core.common import SettingWithCopyWarning\n",
    "\n",
    "warnings.simplefilter(action=\"ignore\", category=SettingWithCopyWarning)\n",
    "warnings.simplefilter(action='ignore', category=FutureWarning)"
   ]
  },
  {
   "cell_type": "code",
   "execution_count": 2,
   "id": "threatened-hartford",
   "metadata": {},
   "outputs": [],
   "source": [
    "posts = pd.read_excel('D:/Maria/AI news hack/posts (1).xlsx')\n",
    "posts_100 = posts[:100]"
   ]
  },
  {
   "cell_type": "code",
   "execution_count": 3,
   "id": "overhead-bishop",
   "metadata": {},
   "outputs": [
    {
     "data": {
      "text/plain": [
       "(<function AI_news_hack_title_script_topics_similarity_Shushpanova_MaRyRyN.print_top25_words(model, tfidf, n_words=25)>,\n",
       "                                                 title                    class\n",
       " 0        восстановление аммиакопровод занять до месяц              развлечения\n",
       " 1   выделить дополнительный млн рубль на соцучрежд...                   шоубиз\n",
       " 2               россия уничтожить санкция байденаххах               технологии\n",
       " 3   обыск в минобразования дагестан по дело о выплата                    общее\n",
       " 4   реконструкция пропускной пункт верхний ларс за...    путешествия/релокация\n",
       " ..                                                ...                      ...\n",
       " 95     иностранец готовый массово переезжать в россия               технологии\n",
       " 96  президент украина владимир зеленский заявить в...                  финансы\n",
       " 97  губернатор белгородский область гладков заявит...                 политика\n",
       " 98  макрон в разговор с зеленский заявить что фран...                  финансы\n",
       " 99  магатэ признать что ситуация вокруг каховский ...  образовательный контент\n",
       " \n",
       " [100 rows x 2 columns],\n",
       " 'made by Maria Shu')"
      ]
     },
     "execution_count": 3,
     "metadata": {},
     "output_type": "execute_result"
    }
   ],
   "source": [
    "predict_topic(posts_100, 'title')"
   ]
  },
  {
   "cell_type": "code",
   "execution_count": 4,
   "id": "leading-patch",
   "metadata": {},
   "outputs": [
    {
     "data": {
      "text/plain": [
       "(                                                title  similar docs\n",
       " 0        восстановление аммиакопровод занять до месяц             0\n",
       " 1   выделить дополнительный млн рубль на соцучрежд...             1\n",
       " 2                россия уничтожить санкция байденахха             2\n",
       " 3   обыск в минобразования дагестан по дело о выплата             0\n",
       " 4   реконструкция пропускной пункт верхний ларс за...             4\n",
       " ..                                                ...           ...\n",
       " 95     иностранец готовый массово переезжать в россия            95\n",
       " 96  президент украина владимир зеленский заявить в...            96\n",
       " 97  губернатор белгородский область гладков заявит...            97\n",
       " 98  макрон в разговор с зеленский заявить что фран...            98\n",
       " 99  магатэ признать что ситуация вокруг каховский ...            99\n",
       " \n",
       " [100 rows x 2 columns],\n",
       " 'made by Maria Shu')"
      ]
     },
     "execution_count": 4,
     "metadata": {},
     "output_type": "execute_result"
    }
   ],
   "source": [
    "pairwise_similarity(posts_100, 'title')"
   ]
  },
  {
   "cell_type": "code",
   "execution_count": null,
   "id": "determined-seafood",
   "metadata": {},
   "outputs": [],
   "source": []
  }
 ],
 "metadata": {
  "kernelspec": {
   "display_name": "Python 3",
   "language": "python",
   "name": "python3"
  },
  "language_info": {
   "codemirror_mode": {
    "name": "ipython",
    "version": 3
   },
   "file_extension": ".py",
   "mimetype": "text/x-python",
   "name": "python",
   "nbconvert_exporter": "python",
   "pygments_lexer": "ipython3",
   "version": "3.8.8"
  }
 },
 "nbformat": 4,
 "nbformat_minor": 5
}
